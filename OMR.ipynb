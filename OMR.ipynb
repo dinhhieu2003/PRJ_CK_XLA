{
 "cells": [
  {
   "cell_type": "markdown",
   "metadata": {
    "collapsed": false
   },
   "source": [
    "### Step 1: Edge detection with canny\n",
    "Lý do: Ta cần phát hiện cạnh để tách biệt các vật thể + loại bỏ nhiễu, giúp cho việc nhận diện dễ dàng hơn"
   ]
  },
  {
   "cell_type": "code",
   "execution_count": 79,
   "metadata": {
    "collapsed": false
   },
   "outputs": [],
   "source": [
    "from imutils.perspective import four_point_transform\n",
    "from imutils import contours\n",
    "import numpy as np\n",
    "import imutils\n",
    "import cv2\n",
    "\n",
    "orig = cv2.imread(\"Image/test_01.jpg\")\n",
    "image = orig.copy()\n",
    "image = imutils.resize(image, height=1500)"
   ]
  },
  {
   "cell_type": "code",
   "execution_count": 80,
   "metadata": {
    "collapsed": false
   },
   "outputs": [],
   "source": [
    "# gray it\n",
    "gray = cv2.cvtColor(image, cv2.COLOR_BGR2GRAY)\n",
    "# blur it\n",
    "gray_blur = cv2.GaussianBlur(gray, (5, 5), 0)\n",
    "# canny edge detection\n",
    "# Có Sobel và Prewitt nữa nhưng mà chúng nó nhạy cảm hơn với nhiễu + xử lý tương phản thấp ko tốt\n",
    "# Canny threshold: nếu pixel < low thì bị loại bỏ, > high chắc chắn được giữ, nếu nằm giữa thì xem xét nó có liên kết với một strong edge không\n",
    "edged = cv2.Canny(gray_blur, 20, 50)\n",
    "\n",
    "cv2.imshow(\"canny\", imutils.resize(edged, height=700))\n",
    "cv2.waitKey(0)\n",
    "cv2.destroyAllWindows()"
   ]
  },
  {
   "cell_type": "markdown",
   "metadata": {
    "collapsed": false
   },
   "source": [
    "### Step 2: Apply a perspective transform to extract the top-down, birds-eye-view of the exam."
   ]
  },
  {
   "cell_type": "markdown",
   "metadata": {
    "collapsed": false
   },
   "source": [
    "#### 2.1: Find contour of answer sheet"
   ]
  },
  {
   "cell_type": "code",
   "execution_count": 81,
   "metadata": {
    "collapsed": false
   },
   "outputs": [],
   "source": [
    "contours_outer_edge = cv2.findContours(edged.copy(), cv2.RETR_EXTERNAL, cv2.CHAIN_APPROX_SIMPLE)\n",
    "contours_outer_edge = imutils.grab_contours(contours_outer_edge)\n",
    "sheetCnts = None\n",
    "count = 0\n",
    "if len(contours_outer_edge) > 0:\n",
    "    contours_outer_edge = sorted(contours_outer_edge, key=cv2.contourArea, reverse=True)\n",
    "    for c in contours_outer_edge:\n",
    "        # calc the perimeter\n",
    "        peri = cv2.arcLength(c, True)\n",
    "        approx = cv2.approxPolyDP(c, 0.05*peri, True)\n",
    "        if len(approx) == 4:\n",
    "            count += 1\n",
    "            sheetCnts = approx\n",
    "            cv2.drawContours(image, [sheetCnts], -1, (0, 255, 0), 2)\n",
    "            cv2.imshow(\"point\", image)\n",
    "            cv2.waitKey(0)\n",
    "            cv2.destroyAllWindows()\n",
    "            break"
   ]
  },
  {
   "cell_type": "markdown",
   "metadata": {
    "collapsed": false
   },
   "source": [
    "#### 2.2 Apply four_point_transform to display bird's eyes view (top-down)"
   ]
  },
  {
   "cell_type": "code",
   "execution_count": 82,
   "metadata": {
    "collapsed": false
   },
   "outputs": [],
   "source": [
    "paper = four_point_transform(image, sheetCnts.reshape(4, 2))\n",
    "warped = four_point_transform(gray_blur, sheetCnts.reshape(4,2))\n",
    "cv2.imshow(\"bird\", paper)\n",
    "cv2.waitKey(0)\n",
    "cv2.destroyAllWindows()"
   ]
  },
  {
   "cell_type": "markdown",
   "metadata": {
    "collapsed": false
   },
   "source": [
    "### Step 3: Extract the set of bubbles (i.e., the possible answer choices) from the perspective transformed exam."
   ]
  },
  {
   "cell_type": "code",
   "execution_count": 83,
   "metadata": {
    "collapsed": false
   },
   "outputs": [],
   "source": [
    "thresh = cv2.adaptiveThreshold(\n",
    "    warped, 255, cv2.ADAPTIVE_THRESH_GAUSSIAN_C, cv2.THRESH_BINARY_INV, 11, 2)\n",
    "cv2.imshow(\"thresh\", imutils.resize(thresh, height=700))\n",
    "cv2.waitKey(0)\n",
    "cv2.destroyAllWindows()"
   ]
  },
  {
   "cell_type": "code",
   "execution_count": 84,
   "metadata": {
    "collapsed": false
   },
   "outputs": [
    {
     "name": "stdout",
     "output_type": "stream",
     "text": [
      "837\n"
     ]
    }
   ],
   "source": [
    "# vẽ viền cho tất cả để xác nhận lại viền có đúng không\n",
    "cnts = cv2.findContours(thresh.copy(), cv2.RETR_EXTERNAL, cv2.CHAIN_APPROX_SIMPLE)\n",
    "cnts = imutils.grab_contours(cnts)\n",
    "print(len(cnts))\n",
    "\n",
    "cv2.drawContours(warped, cnts, -1, (0, 255, 0), 1)\n",
    "cv2.imshow('thres', imutils.resize(warped, height=700))\n",
    "cv2.waitKey(0)\n",
    "cv2.destroyAllWindows()"
   ]
  },
  {
   "cell_type": "code",
   "execution_count": 85,
   "metadata": {
    "collapsed": false
   },
   "outputs": [
    {
     "name": "stdout",
     "output_type": "stream",
     "text": [
      "837\n",
      "240\n"
     ]
    }
   ],
   "source": [
    "show_boxes = True\n",
    "questions = []\n",
    "print(len(cnts))\n",
    "for c in cnts:\n",
    "    (x, y, w, h) = cv2.boundingRect(c)\n",
    "    ar = w / float(h)\n",
    "    if (w >= 15 and h >= 15) and (w <= 50 and h <= 50) and ar >= 0.7 and ar <= 1.3:\n",
    "        questions.append(c)\n",
    "print(len(questions))\n",
    "\n",
    "\n",
    "cv2.drawContours(paper, questions, -1, (255, 0, 0), 1)\n",
    "cv2.imshow('questions', imutils.resize(paper, height=700))\n",
    "cv2.waitKey(0)\n",
    "cv2.destroyAllWindows()"
   ]
  },
  {
   "cell_type": "code",
   "execution_count": 86,
   "metadata": {
    "collapsed": false
   },
   "outputs": [],
   "source": [
    "# Answer Key\n",
    "ques = [i for i in range(60)]\n",
    "opts = [0 for _ in range(60)]\n",
    "ANSWER_KEY = dict(zip(ques, opts))"
   ]
  },
  {
   "cell_type": "code",
   "execution_count": 87,
   "metadata": {
    "collapsed": false
   },
   "outputs": [
    {
     "name": "stdout",
     "output_type": "stream",
     "text": [
      "2\n"
     ]
    }
   ],
   "source": [
    "# Get question contours and order\n",
    "questionCnts = contours.sort_contours(questions, method=\"top-to-bottom\")[0]\n",
    "\n",
    "questionCnts_ordered = []\n",
    "for i in np.arange(0, len(questionCnts), 16):\n",
    "        ordered = contours.sort_contours(questionCnts[i:i+16])[0]\n",
    "        for q in ordered:\n",
    "             questionCnts_ordered.append(q)\n",
    "\n",
    "bubble_thresh = 185\n",
    "correct = 0\n",
    "# Lặp qua các contours của từng câu hỏi\n",
    "for (q, i) in enumerate(np.arange(0, len(questionCnts_ordered), 4)):\n",
    "    # Sắp xếp các contours cho câu hỏi hiện tại từ trái sang phải, sau đó khởi tạo chỉ số của câu trả lời đã được chọn\n",
    "    cnts = contours.sort_contours(questionCnts_ordered[i:i + 4])[0]\n",
    "    bubbled = [-1, -1]\n",
    "    bubble_count = 0\n",
    "\n",
    "    # Lặp qua các contours đã được sắp xếp\n",
    "    for (j, c) in enumerate(cnts):\n",
    "        # Tạo mask để chỉ hiển thị \"bubbles\" cho câu hỏi hiện tại\n",
    "        mask = np.zeros(thresh.shape, dtype=\"uint8\")\n",
    "        cv2.drawContours(mask, [c], -1, 255, -1)\n",
    "\n",
    "        # Áp dụng mask vào ảnh threshold, sau đó đếm số lượng pixel khác không trong vùng bubble\n",
    "        mask = cv2.bitwise_and(thresh, thresh, mask=mask)\n",
    "        total = cv2.countNonZero(mask)\n",
    "\n",
    "        # if total > current bubbled then\n",
    "        # bubbled = total\n",
    "        if bubbled[0] == -1 or bubbled[0] < total:\n",
    "            bubbled = (total, j)\n",
    "            if bubbled[0] > bubble_thresh:\n",
    "                bubble_count += 1\n",
    "        else:\n",
    "            # update bubble thresh\n",
    "            # if total <= bubbled[0]\n",
    "            # this means that bubbled is not filled\n",
    "            # therefore we are updating bubble thresh to adjust to the pic\n",
    "            bubble_thresh = max(bubble_thresh, total+5)\n",
    "\n",
    "    # Khởi tạo màu của contour và chỉ số của đáp án\n",
    "    color = (0, 0, 255)\n",
    "    k = ANSWER_KEY[q]\n",
    "\n",
    "    # Kiểm tra xem câu trả lời đã được chọn có đúng không\n",
    "    if k == bubbled[1] and bubbled[0] > bubble_thresh:\n",
    "        color = (0, 255, 0)\n",
    "        correct += 1\n",
    "    # Vẽ viền của câu trả lời đúng trên bài kiểm tra\n",
    "    cv2.drawContours(paper, [cnts[k]], -1, color, 3)\n",
    "print(correct)\n",
    "cv2.imshow('show answer', paper)\n",
    "cv2.waitKey(0)\n",
    "cv2.destroyAllWindows()"
   ]
  }
 ],
 "metadata": {
  "kernelspec": {
   "display_name": "Python 3",
   "language": "python",
   "name": "python3"
  },
  "language_info": {
   "codemirror_mode": {
    "name": "ipython",
    "version": 3
   },
   "file_extension": ".py",
   "mimetype": "text/x-python",
   "name": "python",
   "nbconvert_exporter": "python",
   "pygments_lexer": "ipython3",
   "version": "3.11.5"
  }
 },
 "nbformat": 4,
 "nbformat_minor": 0
}
