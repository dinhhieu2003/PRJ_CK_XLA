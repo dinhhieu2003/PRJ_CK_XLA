{
 "cells": [
  {
   "cell_type": "markdown",
   "metadata": {
    "collapsed": false
   },
   "source": [
    "### Step 1: Edge detection with canny\n",
    "Lý do: Ta cần phát hiện cạnh để tách biệt các vật thể + loại bỏ nhiễu, giúp cho việc nhận diện dễ dàng hơn"
   ]
  },
  {
   "cell_type": "code",
   "execution_count": 20,
   "metadata": {
    "collapsed": false
   },
   "outputs": [],
   "source": [
    "from imutils.perspective import four_point_transform\n",
    "from imutils import contours\n",
    "import numpy as np\n",
    "import imutils\n",
    "import cv2\n",
    "\n",
    "orig = cv2.imread(\"Image/paper - Copy.jfif\")\n",
    "image = orig.copy()\n",
    "image = imutils.resize(image, height=1500)"
   ]
  },
  {
   "cell_type": "code",
   "execution_count": 21,
   "metadata": {
    "collapsed": false
   },
   "outputs": [],
   "source": [
    "# gray it\n",
    "gray = cv2.cvtColor(image, cv2.COLOR_BGR2GRAY)\n",
    "# blur it\n",
    "gray_blur = cv2.GaussianBlur(gray, (5, 5), 0)\n",
    "gray_blur_little = cv2.GaussianBlur(gray, (3, 3), 0)\n",
    "\n",
    "# canny edge detection\n",
    "# Có Sobel và Prewitt nữa nhưng mà chúng nó nhạy cảm hơn với nhiễu + xử lý tương phản thấp ko tốt\n",
    "# Canny threshold: nếu pixel < low thì bị loại bỏ, > high chắc chắn được giữ, nếu nằm giữa thì xem xét nó có liên kết với một strong edge không\n",
    "edged = cv2.Canny(gray_blur, 20, 50)\n",
    "\n",
    "cv2.imshow(\"canny\", imutils.resize(edged, height=700))\n",
    "cv2.waitKey(0)\n",
    "cv2.destroyAllWindows()"
   ]
  },
  {
   "cell_type": "markdown",
   "metadata": {
    "collapsed": false
   },
   "source": [
    "### Step 2: Apply a perspective transform to extract the top-down, birds-eye-view of the exam."
   ]
  },
  {
   "cell_type": "markdown",
   "metadata": {
    "collapsed": false
   },
   "source": [
    "#### 2.1: Find contour of exam code"
   ]
  },
  {
   "cell_type": "code",
   "execution_count": 22,
   "metadata": {
    "collapsed": false
   },
   "outputs": [
    {
     "data": {
      "text/plain": [
       "'\\ncontours_outer_edge = cv2.findContours(edged.copy(), cv2.RETR_EXTERNAL, cv2.CHAIN_APPROX_SIMPLE)\\ncontours_outer_edge = imutils.grab_contours(contours_outer_edge)\\nsheetCnts = None\\ncount = 0\\nif len(contours_outer_edge) > 0:\\n    contours_outer_edge = sorted(contours_outer_edge, key=cv2.contourArea, reverse=True)\\n    for c in contours_outer_edge:\\n        # calc the perimeter\\n        peri = cv2.arcLength(c, True)\\n        approx = cv2.approxPolyDP(c, 0.05*peri, True)\\n        if len(approx) == 4:\\n            count += 1\\n            sheetCnts = approx\\n            cv2.drawContours(image, [sheetCnts], -1, (0, 255, 0), 2)\\n            cv2.imshow(\"point\", imutils.resize(image, height=700))\\n            cv2.waitKey(0)\\n            cv2.destroyAllWindows()\\n            break\\n'"
      ]
     },
     "execution_count": 22,
     "metadata": {},
     "output_type": "execute_result"
    }
   ],
   "source": [
    "'''\n",
    "contours_outer_edge = cv2.findContours(edged.copy(), cv2.RETR_EXTERNAL, cv2.CHAIN_APPROX_SIMPLE)\n",
    "contours_outer_edge = imutils.grab_contours(contours_outer_edge)\n",
    "sheetCnts = None\n",
    "count = 0\n",
    "if len(contours_outer_edge) > 0:\n",
    "    contours_outer_edge = sorted(contours_outer_edge, key=cv2.contourArea, reverse=True)\n",
    "    for c in contours_outer_edge:\n",
    "        # calc the perimeter\n",
    "        peri = cv2.arcLength(c, True)\n",
    "        approx = cv2.approxPolyDP(c, 0.05*peri, True)\n",
    "        if len(approx) == 4:\n",
    "            count += 1\n",
    "            sheetCnts = approx\n",
    "            cv2.drawContours(image, [sheetCnts], -1, (0, 255, 0), 2)\n",
    "            cv2.imshow(\"point\", imutils.resize(image, height=700))\n",
    "            cv2.waitKey(0)\n",
    "            cv2.destroyAllWindows()\n",
    "            break\n",
    "'''"
   ]
  },
  {
   "cell_type": "code",
   "execution_count": 23,
   "metadata": {},
   "outputs": [],
   "source": [
    "contours_outer_edge = cv2.findContours(edged.copy(), cv2.RETR_EXTERNAL, cv2.CHAIN_APPROX_SIMPLE)\n",
    "contours_outer_edge = imutils.grab_contours(contours_outer_edge)\n",
    "sheetCnts = []\n",
    "count = 0\n",
    "\n",
    "if len(contours_outer_edge) > 2:  # Thay đổi này để đảm bảo rằng có ít nhất 2 đường viền\n",
    "    contours_outer_edge = sorted(contours_outer_edge, key=cv2.contourArea, reverse=True)\n",
    "    for c in contours_outer_edge:\n",
    "        peri = cv2.arcLength(c, True)\n",
    "        approx = cv2.approxPolyDP(c, 0.05 * peri, True)\n",
    "        if len(approx) == 4:\n",
    "            count += 1\n",
    "            sheetCnts.append(approx)\n",
    "            cv2.drawContours(image, [approx], -1, (0, 255, 0), 2)\n",
    "            if count == 3:  # Thoát vòng lặp sau khi tìm thấy đường viền lớn thứ hai\n",
    "                break\n",
    "\n",
    "cv2.imshow(\"point\", imutils.resize(image, height=700))\n",
    "cv2.waitKey(0)\n",
    "cv2.destroyAllWindows()\n"
   ]
  },
  {
   "cell_type": "markdown",
   "metadata": {},
   "source": [
    "#### 2.2 Apply four_point_transform to display bird's eyes view (top-down)"
   ]
  },
  {
   "cell_type": "code",
   "execution_count": 24,
   "metadata": {},
   "outputs": [],
   "source": [
    "exam_code = four_point_transform(image, sheetCnts[2].reshape(4, 2))\n",
    "\n",
    "warped_code = four_point_transform(gray_blur_little, sheetCnts[2].reshape(4,2))\n",
    "\n",
    "cv2.imshow(\"bird eye\", imutils.resize(warped_code, height=700))\n",
    "cv2.waitKey(0)\n",
    "cv2.destroyAllWindows()"
   ]
  },
  {
   "cell_type": "markdown",
   "metadata": {},
   "source": [
    "#### 2.3 Using highpass (Laplacian) to sharpen image including contour and change image into binary"
   ]
  },
  {
   "cell_type": "code",
   "execution_count": 25,
   "metadata": {},
   "outputs": [],
   "source": [
    "# Define the Laplacian kernel for sharpening\n",
    "kernel = np.array([\n",
    "    [0, 1, 0],\n",
    "    [1, -4, 1],\n",
    "    [0, 1, 0]\n",
    "])\n",
    "\n",
    "# Apply the Laplacian filter for sharpening\n",
    "sharpend = cv2.filter2D(warped_code, -1, kernel)\n",
    "warped_code = warped_code + sharpend\n",
    "\n",
    "thresh_exam_code = cv2.adaptiveThreshold(\n",
    "    warped_code, 255, cv2.ADAPTIVE_THRESH_GAUSSIAN_C, cv2.THRESH_BINARY_INV, 11, 2)\n",
    "cv2.imshow(\"thresh\", imutils.resize(thresh_exam_code, height=700))\n",
    "cv2.waitKey(0)\n",
    "cv2.destroyAllWindows()"
   ]
  },
  {
   "cell_type": "code",
   "execution_count": 26,
   "metadata": {},
   "outputs": [
    {
     "name": "stdout",
     "output_type": "stream",
     "text": [
      "127\n"
     ]
    }
   ],
   "source": [
    "# vẽ viền cho tất cả để xác nhận lại viền có đúng không\n",
    "cnts = cv2.findContours(thresh_exam_code.copy(), cv2.RETR_EXTERNAL, cv2.CHAIN_APPROX_SIMPLE)\n",
    "cnts = imutils.grab_contours(cnts)\n",
    "print(len(cnts))\n",
    "\n",
    "cv2.drawContours(warped_code, cnts, -1, (0, 255, 0), 1)\n",
    "cv2.imshow('thresh_exam_code', imutils.resize(warped_code, height=700))\n",
    "cv2.waitKey(0)\n",
    "cv2.destroyAllWindows()"
   ]
  },
  {
   "cell_type": "markdown",
   "metadata": {},
   "source": [
    "#### 2.4 find contours of exam code and get it"
   ]
  },
  {
   "cell_type": "code",
   "execution_count": 27,
   "metadata": {},
   "outputs": [
    {
     "name": "stdout",
     "output_type": "stream",
     "text": [
      "127\n",
      "30\n"
     ]
    }
   ],
   "source": [
    "# Tô các ô đề thi \n",
    "exam_codes = []\n",
    "print(len(cnts))\n",
    "for c in cnts:\n",
    "    (x, y, w, h) = cv2.boundingRect(c)\n",
    "    ar = w / float(h)\n",
    "    if (y>=20) and (w >= 15 and h >= 15) and (w <= 50 and h <= 50) and ar >= 0.7 and ar <= 1.3:\n",
    "        exam_codes.append(c)\n",
    "print(len(exam_codes))\n",
    "\n",
    "\n",
    "cv2.drawContours(exam_code, exam_codes, -1, (255, 0, 0), 1)\n",
    "cv2.imshow('exam code', imutils.resize(exam_code, height=700))\n",
    "cv2.waitKey(0)\n",
    "cv2.destroyAllWindows()"
   ]
  },
  {
   "cell_type": "code",
   "execution_count": 28,
   "metadata": {},
   "outputs": [
    {
     "name": "stdout",
     "output_type": "stream",
     "text": [
      "30\n"
     ]
    }
   ],
   "source": [
    "# Get exam code via painted bubble\n",
    "examcodeCnts = contours.sort_contours(exam_codes, method=\"top-to-bottom\")[0]\n",
    "\n",
    "examcodeCnts_ordered = []\n",
    "for i in np.arange(0, len(examcodeCnts), 3):\n",
    "        ordered_exam = contours.sort_contours(examcodeCnts[i:i+3])[0]\n",
    "        for q in ordered_exam:\n",
    "             examcodeCnts_ordered.append(q)\n",
    "\n",
    "print(len(examcodeCnts_ordered))"
   ]
  },
  {
   "cell_type": "code",
   "execution_count": 29,
   "metadata": {},
   "outputs": [
    {
     "name": "stdout",
     "output_type": "stream",
     "text": [
      "242\n"
     ]
    }
   ],
   "source": [
    "code = [0, 0, 0]  # Sử dụng danh sách thay vì chuỗi để lưu trữ các giá trị mã đề\n",
    "ordered_code = []\n",
    "# Sắp xếp các contours cho chỉ số hàng hiện tại từ trái sang phải, sau đó khởi tạo chỉ số của ô mã đề đã được tô\n",
    "# cnts = contours.sort_contours(examcodeCnts_ordered[i:i + 3])[0]\n",
    "\n",
    "bubbled = [-1, -1]\n",
    "# Lặp qua các contours của từng ô mã đề\n",
    "for (q, i) in enumerate(np.arange(0, len(examcodeCnts_ordered))):\n",
    "    mask = np.zeros(thresh_exam_code.shape, dtype=\"uint8\")\n",
    "    cv2.drawContours(mask, examcodeCnts_ordered[i], -1, 255, -1)\n",
    "\n",
    "    kernel = np.ones((10, 10), np.uint8)\n",
    "    mask = cv2.dilate(mask, kernel, iterations=1)\n",
    "\n",
    "    # Áp dụng mask vào ảnh threshold, sau đó đếm số lượng pixel khác không trong vùng bubble\n",
    "    mask = cv2.bitwise_and(thresh_exam_code, thresh_exam_code, mask=mask)\n",
    "\n",
    "    total = cv2.countNonZero(mask)\n",
    "    ordered_code.append(total)\n",
    "\n",
    "sorted_indexes = sorted(range(len(ordered_code)), key=lambda i: ordered_code[i], reverse=True)[:3]\n",
    "for q in sorted_indexes:\n",
    "        # Cập nhật giá trị mã đề tương ứng\n",
    "    if q in [0, 3, 6, 9, 12, 15, 18, 21, 24, 27]:\n",
    "        code[0] += (int(q / 3) + 1) % 10\n",
    "    elif q in [1, 4, 7, 10, 13, 16, 19, 22, 25, 28]:\n",
    "        code[1] += (int(q / 3) + 1) % 10\n",
    "    elif q in [2, 5, 8, 11, 14, 17, 20, 23, 26, 29]:\n",
    "        code[2] += (int(q / 3) + 1) % 10\n",
    "# Chuyển danh sách code thành chuỗi và in ra\n",
    "code = int(''.join(str(x) for x in code))\n",
    "print(code)\n"
   ]
  },
  {
   "cell_type": "markdown",
   "metadata": {},
   "source": [
    "#### 2.5: Find contour of answer sheet"
   ]
  },
  {
   "cell_type": "code",
   "execution_count": 589,
   "metadata": {
    "collapsed": false
   },
   "outputs": [
    {
     "data": {
      "text/plain": [
       "'\\npaper = four_point_transform(image, sheetCnts.reshape(4, 2))\\nwarped = four_point_transform(gray_blur, sheetCnts.reshape(4,2))\\ncv2.imshow(\"bird\", imutils.resize(paper, height=700))\\ncv2.waitKey(0)\\ncv2.destroyAllWindows()\\n'"
      ]
     },
     "execution_count": 589,
     "metadata": {},
     "output_type": "execute_result"
    }
   ],
   "source": [
    "'''\n",
    "paper = four_point_transform(image, sheetCnts.reshape(4, 2))\n",
    "warped = four_point_transform(gray_blur, sheetCnts.reshape(4,2))\n",
    "cv2.imshow(\"bird\", imutils.resize(paper, height=700))\n",
    "cv2.waitKey(0)\n",
    "cv2.destroyAllWindows()\n",
    "'''"
   ]
  },
  {
   "cell_type": "code",
   "execution_count": 590,
   "metadata": {},
   "outputs": [],
   "source": [
    "paper = four_point_transform(image, sheetCnts[0].reshape(4, 2))\n",
    "warped = four_point_transform(gray_blur, sheetCnts[0].reshape(4,2))\n",
    "cv2.imshow(\"bird\", imutils.resize(paper, height=700))\n",
    "cv2.waitKey(0)\n",
    "cv2.destroyAllWindows()"
   ]
  },
  {
   "cell_type": "markdown",
   "metadata": {
    "collapsed": false
   },
   "source": [
    "### Step 3: Extract the set of bubbles (i.e., the possible answer choices) from the perspective transformed exam."
   ]
  },
  {
   "cell_type": "code",
   "execution_count": 591,
   "metadata": {
    "collapsed": false
   },
   "outputs": [],
   "source": [
    "thresh = cv2.adaptiveThreshold(\n",
    "    warped, 255, cv2.ADAPTIVE_THRESH_GAUSSIAN_C, cv2.THRESH_BINARY_INV, 11, 2)\n",
    "cv2.imshow(\"thresh\", imutils.resize(thresh, height=700))\n",
    "cv2.waitKey(0)\n",
    "cv2.destroyAllWindows()"
   ]
  },
  {
   "cell_type": "code",
   "execution_count": 592,
   "metadata": {
    "collapsed": false
   },
   "outputs": [
    {
     "name": "stdout",
     "output_type": "stream",
     "text": [
      "654\n"
     ]
    }
   ],
   "source": [
    "# vẽ viền cho tất cả để xác nhận lại viền có đúng không\n",
    "cnts = cv2.findContours(thresh.copy(), cv2.RETR_EXTERNAL, cv2.CHAIN_APPROX_SIMPLE)\n",
    "cnts = imutils.grab_contours(cnts)\n",
    "print(len(cnts))\n",
    "\n",
    "cv2.drawContours(warped, cnts, -1, (0, 255, 0), 1)\n",
    "cv2.imshow('thres', imutils.resize(warped, height=700))\n",
    "cv2.waitKey(0)\n",
    "cv2.destroyAllWindows()"
   ]
  },
  {
   "cell_type": "code",
   "execution_count": 593,
   "metadata": {
    "collapsed": false
   },
   "outputs": [
    {
     "name": "stdout",
     "output_type": "stream",
     "text": [
      "654\n",
      "240\n"
     ]
    }
   ],
   "source": [
    "# Tô các đáp án (mỗi câu 4 đáp án)\n",
    "questions = []\n",
    "print(len(cnts))\n",
    "for c in cnts:\n",
    "    (x, y, w, h) = cv2.boundingRect(c)\n",
    "    ar = w / float(h)\n",
    "    if (w >= 15 and h >= 15) and (w <= 50 and h <= 50) and ar >= 0.7 and ar <= 1.3:\n",
    "        questions.append(c)\n",
    "print(len(questions))\n",
    "\n",
    "\n",
    "cv2.drawContours(paper, questions, -1, (255, 0, 0), 1)\n",
    "cv2.imshow('questions', imutils.resize(paper, height=700))\n",
    "cv2.waitKey(0)\n",
    "cv2.destroyAllWindows()"
   ]
  },
  {
   "cell_type": "markdown",
   "metadata": {},
   "source": [
    "### Step 4: Get answer list, get question contours and arrange them to mark"
   ]
  },
  {
   "cell_type": "markdown",
   "metadata": {},
   "source": [
    "#### 4.1 Get question index and answer key respetively"
   ]
  },
  {
   "cell_type": "code",
   "execution_count": 594,
   "metadata": {},
   "outputs": [
    {
     "name": "stdout",
     "output_type": "stream",
     "text": [
      "Answers for each exam code':\n",
      "149: [3, 1, 2, 0, 0, 3, 2, 0, 3, 1, 1, 0, 0, 2, 3, 1, 0, 1, 1, 2, 2, 3, 0, 1, 2, 2, 3, 0, 1, 3, 0, 2, 1, 3, 0, 2, 1, 3, 2, 1, 0, 2, 2, 3, 0, 3, 2, 1, 1, 0, 0, 3, 2, 1, 3, 0, 3, 1, 2, 0]\n"
     ]
    }
   ],
   "source": [
    "import os\n",
    "from tkinter import filedialog\n",
    "from openpyxl import load_workbook\n",
    "# Create an empty dictionary to store answers\n",
    "answers_dict = {}\n",
    "def get_answer_indices(excel_path):\n",
    "    # Load the workbook and select the active worksheet\n",
    "    workbook = load_workbook(excel_path)\n",
    "    sheet = workbook.active\n",
    "    \n",
    "    # Create a dictionary to map letters to indices\n",
    "    answer_map = {'A': 0, 'B': 1, 'C': 2, 'D': 3, 'E': 4}\n",
    "    \n",
    "    # Create a list to store the answer indices\n",
    "    answer_indices = []\n",
    "    \n",
    "    # Assuming the first column has question numbers and the second has answers\n",
    "    for row in sheet.iter_rows(min_row=1):  # Skip the header row\n",
    "        answer_letter = row[1].value\n",
    "        # Convert the letter to an index using the answer_map\n",
    "        answer_index = answer_map.get(answer_letter, -1)  # Default to -1 if not found\n",
    "        answer_indices.append(answer_index)\n",
    "    \n",
    "    return answer_indices\n",
    "\n",
    "def read_answers_in_directory(directory_path):\n",
    "    # Get a list of all files in the directory\n",
    "    for filename in os.listdir(directory_path):\n",
    "        if filename.endswith(\".xlsx\"):\n",
    "            file_path = os.path.join(directory_path, filename)\n",
    "            # Extract the exam code from the filename\n",
    "            ma_de = filename.split(\".xlsx\")[0]\n",
    "            answer_indices = get_answer_indices(file_path)\n",
    "            answers_dict[ma_de] = answer_indices\n",
    "    \n",
    "    return answers_dict\n",
    "\n",
    "def choose_directory(): \n",
    "    # Prompt the user to select a directory\n",
    "    directory_path = filedialog.askdirectory()\n",
    "    return directory_path\n",
    "\n",
    "# Example usage\n",
    "directory_path = choose_directory()\n",
    "if directory_path:\n",
    "    answers_dict = read_answers_in_directory(directory_path)\n",
    "    print(\"Answers for each exam code':\")\n",
    "    for ma_de, answer_indices in answers_dict.items():\n",
    "        print(f\"{ma_de}: {answer_indices}\")\n",
    "else:\n",
    "    print(\"No directory selected.\")\n"
   ]
  },
  {
   "cell_type": "code",
   "execution_count": 595,
   "metadata": {
    "collapsed": false
   },
   "outputs": [
    {
     "name": "stdout",
     "output_type": "stream",
     "text": [
      "[3, 1, 2, 0, 0, 3, 2, 0, 3, 1, 1, 0, 0, 2, 3, 1, 0, 1, 1, 2, 2, 3, 0, 1, 2, 2, 3, 0, 1, 3, 0, 2, 1, 3, 0, 2, 1, 3, 2, 1, 0, 2, 2, 3, 0, 3, 2, 1, 1, 0, 0, 3, 2, 1, 3, 0, 3, 1, 2, 0]\n",
      "60\n"
     ]
    }
   ],
   "source": [
    "# Answer Key\n",
    "ques = [i for i in range(60)]\n",
    "\n",
    "for ma_de, answer_indices in answers_dict.items():\n",
    "    if code == int(ma_de):\n",
    "        opts = answer_indices\n",
    "print(opts)\n",
    "print(len(opts))\n",
    "\n",
    "ANSWER_KEY = dict(zip(ques, opts))"
   ]
  },
  {
   "cell_type": "markdown",
   "metadata": {},
   "source": [
    "#### 4.2 Get question contours and arrange them in order: top-down questions, right-to-left answers"
   ]
  },
  {
   "cell_type": "code",
   "execution_count": 596,
   "metadata": {
    "collapsed": false
   },
   "outputs": [
    {
     "name": "stdout",
     "output_type": "stream",
     "text": [
      "3\n"
     ]
    }
   ],
   "source": [
    "# Get question contours and order\n",
    "questionCnts = contours.sort_contours(questions, method=\"top-to-bottom\")[0]\n",
    "\n",
    "questionCnts_ordered = []\n",
    "\n",
    "\n",
    "for i in np.arange(0, len(questionCnts), 16):\n",
    "        ordered = contours.sort_contours(questionCnts[i:i+16])[0]\n",
    "        for q in ordered:\n",
    "             questionCnts_ordered.append(q)\n",
    "\n",
    "bubble_thresh = 185\n",
    "correct = 0\n",
    "# Lặp qua các contours của từng câu hỏi\n",
    "for (q, i) in enumerate(np.arange(0, len(questionCnts_ordered), 4)):\n",
    "    # Sắp xếp các contours cho câu hỏi hiện tại từ trái sang phải, sau đó khởi tạo chỉ số của câu trả lời đã được chọn\n",
    "    cnts = contours.sort_contours(questionCnts_ordered[i:i + 4])[0]\n",
    "    bubbled = [-1, -1]\n",
    "    bubble_count = 0\n",
    "\n",
    "    # Lặp qua các contours đã được sắp xếp\n",
    "    for (j, c) in enumerate(cnts):\n",
    "        # Tạo mask để chỉ hiển thị \"bubbles\" cho câu hỏi hiện tại\n",
    "        mask = np.zeros(thresh.shape, dtype=\"uint8\")\n",
    "        cv2.drawContours(mask, [c], -1, 255, -1)\n",
    "\n",
    "        # Áp dụng mask vào ảnh threshold, sau đó đếm số lượng pixel khác không trong vùng bubble\n",
    "        mask = cv2.bitwise_and(thresh, thresh, mask=mask)\n",
    "        total = cv2.countNonZero(mask)\n",
    "\n",
    "        # if total > current bubbled then\n",
    "        # bubbled = total\n",
    "        if bubbled[0] == -1 or bubbled[0] < total:\n",
    "            bubbled = (total, j)\n",
    "            if bubbled[0] > bubble_thresh:\n",
    "                bubble_count += 1\n",
    "        else:\n",
    "            # update bubble thresh\n",
    "            # if total <= bubbled[0]\n",
    "            # this means that bubbled is not filled\n",
    "            # therefore we are updating bubble thresh to adjust to the pic\n",
    "            bubble_thresh = max(bubble_thresh, total+5)\n",
    "\n",
    "    # Khởi tạo màu của contour và chỉ số của đáp án\n",
    "    color = (0, 0, 255)\n",
    "    row = q // 4\n",
    "    col = q % 4\n",
    "    q =col * 15 + row \n",
    "    k = ANSWER_KEY[q]\n",
    "\n",
    "    # Kiểm tra xem câu trả lời đã được chọn có đúng không\n",
    "    if k == bubbled[1] and bubbled[0] > bubble_thresh:\n",
    "        color = (0, 255, 0)\n",
    "        correct += 1\n",
    "    # Vẽ viền của câu trả lời đúng trên bài kiểm tra\n",
    "    cv2.drawContours(paper, [cnts[k]], -1, color, 3)\n",
    "print(correct)\n",
    "cv2.imshow('show answer', imutils.resize(paper, height=700))\n",
    "cv2.waitKey(0)\n",
    "cv2.destroyAllWindows()"
   ]
  },
  {
   "cell_type": "markdown",
   "metadata": {},
   "source": [
    "### Step 5: grading "
   ]
  },
  {
   "cell_type": "code",
   "execution_count": 597,
   "metadata": {},
   "outputs": [
    {
     "name": "stdout",
     "output_type": "stream",
     "text": [
      "{'correct': 3, 'score': 5.0}\n"
     ]
    }
   ],
   "source": [
    "# số câu tối đa\n",
    "max_marks = 60\n",
    "# số điểm cho mỗi câu đúng\n",
    "positive_marking = 1\n",
    "# số điểm cho mỗi câu sai\n",
    "# negative_marking = 0\n",
    "\n",
    "# grab the test taker\n",
    "# Tính toán điểm số \n",
    "score = (correct*positive_marking) / max_marks * 100\n",
    "\n",
    "# Thông tin về số câu trả lời đúng và điểm số được lưu vào một dictionary info\n",
    "info = {\n",
    "    \"correct\": correct,\n",
    "    #\"wrong\": wrong,\n",
    "    \"score\": score\n",
    "}\n",
    "print(info)"
   ]
  },
  {
   "cell_type": "code",
   "execution_count": 598,
   "metadata": {},
   "outputs": [],
   "source": [
    "# Hiển thị số lượng câu trả lời đúng, sai và điểm số lên trang giấy\n",
    "cv2.putText(paper, \"Correct: {}\".format(correct), (10, 30),\n",
    "            cv2.FONT_HERSHEY_SIMPLEX, 0.9, (0, 255, 0), 2)\n",
    "#cv2.putText(paper, \"Wrong: {}\".format(wrong), (10, 60),\n",
    "#            cv2.FONT_HERSHEY_SIMPLEX, 0.9, (0, 0, 255), 2)\n",
    "cv2.putText(paper, \"Score: {:.1f}%\".format(score), (180, 30),\n",
    "            cv2.FONT_HERSHEY_SIMPLEX, 0.9, (255, 0, 0), 2)\n",
    "\n",
    "cv2.imshow('show score', imutils.resize(paper, height=700))\n",
    "cv2.waitKey(0)\n",
    "cv2.destroyAllWindows()"
   ]
  }
 ],
 "metadata": {
  "kernelspec": {
   "display_name": "Python 3 (ipykernel)",
   "language": "python",
   "name": "python3"
  },
  "language_info": {
   "codemirror_mode": {
    "name": "ipython",
    "version": 3
   },
   "file_extension": ".py",
   "mimetype": "text/x-python",
   "name": "python",
   "nbconvert_exporter": "python",
   "pygments_lexer": "ipython3",
   "version": "3.11.5"
  }
 },
 "nbformat": 4,
 "nbformat_minor": 1
}
